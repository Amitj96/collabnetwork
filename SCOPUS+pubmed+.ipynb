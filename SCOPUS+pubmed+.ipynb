{
 "cells": [
  {
   "cell_type": "markdown",
   "metadata": {},
   "source": [
    "## SCOPUS/pubmed ids matching with GenBank pubmed ids for the citation counts of the papers associated with datasets. "
   ]
  },
  {
   "cell_type": "code",
   "execution_count": 1,
   "metadata": {},
   "outputs": [
    {
     "name": "stderr",
     "output_type": "stream",
     "text": [
      "Warning message:\n",
      "\"package 'dbConnect' was built under R version 3.4.3\"Loading required package: RMySQL\n",
      "Loading required package: DBI\n",
      "Loading required package: gWidgets\n",
      "Loading required package: data.table\n",
      "\n",
      "Attaching package: 'igraph'\n",
      "\n",
      "The following objects are masked from 'package:stats':\n",
      "\n",
      "    decompose, spectrum\n",
      "\n",
      "The following object is masked from 'package:base':\n",
      "\n",
      "    union\n",
      "\n"
     ]
    }
   ],
   "source": [
    "library(dbConnect)\n",
    "library(splitstackshape)\n",
    "library(RMySQL)\n",
    "library(igraph)\n"
   ]
  },
  {
   "cell_type": "code",
   "execution_count": 2,
   "metadata": {
    "collapsed": true
   },
   "outputs": [],
   "source": [
    "con <- dbConnect(MySQL(),user=\"GenBankUser\", password=\"123GenBank456\",host=\"metadatalab.syr.edu\", dbname=\"genbank\")"
   ]
  },
  {
   "cell_type": "code",
   "execution_count": 3,
   "metadata": {},
   "outputs": [
    {
     "data": {
      "text/plain": [
       "Time difference of 22.22427 secs"
      ]
     },
     "metadata": {},
     "output_type": "display_data"
    }
   ],
   "source": [
    "start.time <- Sys.time()\n",
    "#How many pub med ids in the reference table?\n",
    "pubmed <- dbGetQuery(con, \"SELECT COUNT(*), r.* FROM genbank.Reference as r WHERE pubmed is NOT NULL GROUP BY pubmed;\")\n",
    "end.time <- Sys.time()\n",
    "time.taken <- end.time - start.time\n",
    "time.taken\n",
    "#Be careful not to run this repeatedly. "
   ]
  },
  {
   "cell_type": "markdown",
   "metadata": {},
   "source": [
    "### What are the pubmed ids for the entry with 94 instances?"
   ]
  },
  {
   "cell_type": "code",
   "execution_count": 8,
   "metadata": {},
   "outputs": [
    {
     "data": {
      "text/html": [
       "233507"
      ],
      "text/latex": [
       "233507"
      ],
      "text/markdown": [
       "233507"
      ],
      "text/plain": [
       "[1] 233507"
      ]
     },
     "metadata": {},
     "output_type": "display_data"
    },
    {
     "data": {
      "text/html": [
       "<table>\n",
       "<thead><tr><th scope=col>COUNT(*)</th><th scope=col>id</th><th scope=col>reference</th><th scope=col>authors</th><th scope=col>consortium</th><th scope=col>title</th><th scope=col>journal</th><th scope=col>pubmed</th><th scope=col>remark</th><th scope=col>year</th><th scope=col>new_id</th></tr></thead>\n",
       "<tbody>\n",
       "\t<tr><td>1                                                                                                                                               </td><td>389621840002                                                                                                                                    </td><td>2  (bases 1 to 683)                                                                                                                             </td><td>Zapata,S., Leon,R., Le Pont,F., Pesson,B., Ravel,C., Cruaud,C. and\tDepaquit,J.                                                                  </td><td>NA                                                                                                                                              </td><td>Direct Submission                                                                                                                               </td><td>Submitted (27-DEC-2011) Microbiology Institute, Universidad San\tFrancisco de Quito, Campus Cumbaya                                              </td><td> Diego de Robles y Via\tInteroceanica, Quito, Pichi                                                                                              </td><td>NA                                                                                                                                              </td><td>  NA                                                                                                                                            </td><td>1265203                                                                                                                                         </td></tr>\n",
       "\t<tr><td>2                                                                                                                                               </td><td>510031482002                                                                                                                                    </td><td>2  (bases 1 to 717)                                                                                                                             </td><td>Stiebens,V.A., Merino,S.E., Roder,C., Chain,F.J.J., Lee,P.L.M. and\tEizaguirre,C.                                                                </td><td>NA                                                                                                                                              </td><td>Direct Submission                                                                                                                               </td><td>Submitted (09-MAY-2013) Evolutionary Ecology of Marine Fishes,\tGEOMAR                                                                           </td><td> Helmholtz Center for Ocean Research, Duesternbroo                                                                                              </td><td>NA                                                                                                                                              </td><td>  NA                                                                                                                                            </td><td>1340234                                                                                                                                         </td></tr>\n",
       "\t<tr><td>1                                                                                                                                               </td><td> 62241720002                                                                                                                                    </td><td>2  (bases 1 to 611)                                                                                                                             </td><td>Burkhardt,U.                                                                                                                                    </td><td>NA                                                                                                                                              </td><td>Direct Submission                                                                                                                               </td><td>Submitted (24-FEB-2005) Burkhardt U., Department of General and\tTheoretical Ecology, University of Bremen, UFT, Leobener Strasse,\tBremen-       </td><td>-D-28359, GERMANY                                                                                                                               </td><td>NA                                                                                                                                              </td><td>  NA                                                                                                                                            </td><td> 619443                                                                                                                                         </td></tr>\n",
       "\t<tr><td>1                                                                                                                                               </td><td>   174914002                                                                                                                                    </td><td>2  (sites)                                                                                                                                      </td><td>Kelly,J.M., Goddard,J.P. and Maden,E.H.                                                                                                         </td><td>NA                                                                                                                                              </td><td>Evidence on the conformation of HeLa-cell 5.8S ribosomal\tribonucleic acid from the reaction of specific cytidine residues\twith sodium bisulphite</td><td>Biochem. J. 173 (2), 521-532 (1978)                                                                                                             </td><td>100103                                                                                                                                          </td><td>NA                                                                                                                                              </td><td>1978                                                                                                                                            </td><td>  26210                                                                                                                                         </td></tr>\n",
       "\t<tr><td>1                                                                                                                                               </td><td>  4574225001                                                                                                                                    </td><td>1  (bases 1 to 189)                                                                                                                             </td><td>Abzhanov,A. and Kaufman,T.C.                                                                                                                    </td><td>NA                                                                                                                                              </td><td>Novel regulation of the homeotic gene Scr associated with a\tcrustacean leg-to-maxilliped appendage transformation                               </td><td>Development 126 (6), 1121-1128 (1999)                                                                                                           </td><td>10021332                                                                                                                                        </td><td>NA                                                                                                                                              </td><td>1999                                                                                                                                            </td><td> 188018                                                                                                                                         </td></tr>\n",
       "</tbody>\n",
       "</table>\n"
      ],
      "text/latex": [
       "\\begin{tabular}{r|lllllllllll}\n",
       " COUNT(*) & id & reference & authors & consortium & title & journal & pubmed & remark & year & new\\_id\\\\\n",
       "\\hline\n",
       "\t 1                                                                                                                                                & 389621840002                                                                                                                                     & 2  (bases 1 to 683)                                                                                                                              & Zapata,S., Leon,R., Le Pont,F., Pesson,B., Ravel,C., Cruaud,C. and\tDepaquit,J.                                                                   & NA                                                                                                                                               & Direct Submission                                                                                                                                & Submitted (27-DEC-2011) Microbiology Institute, Universidad San\tFrancisco de Quito, Campus Cumbaya                                               &  Diego de Robles y Via\tInteroceanica, Quito, Pichi                                                                                               & NA                                                                                                                                               &   NA                                                                                                                                             & 1265203                                                                                                                                         \\\\\n",
       "\t 2                                                                                                                                                & 510031482002                                                                                                                                     & 2  (bases 1 to 717)                                                                                                                              & Stiebens,V.A., Merino,S.E., Roder,C., Chain,F.J.J., Lee,P.L.M. and\tEizaguirre,C.                                                                 & NA                                                                                                                                               & Direct Submission                                                                                                                                & Submitted (09-MAY-2013) Evolutionary Ecology of Marine Fishes,\tGEOMAR                                                                            &  Helmholtz Center for Ocean Research, Duesternbroo                                                                                               & NA                                                                                                                                               &   NA                                                                                                                                             & 1340234                                                                                                                                         \\\\\n",
       "\t 1                                                                                                                                                &  62241720002                                                                                                                                     & 2  (bases 1 to 611)                                                                                                                              & Burkhardt,U.                                                                                                                                     & NA                                                                                                                                               & Direct Submission                                                                                                                                & Submitted (24-FEB-2005) Burkhardt U., Department of General and\tTheoretical Ecology, University of Bremen, UFT, Leobener Strasse,\tBremen-        & -D-28359, GERMANY                                                                                                                                & NA                                                                                                                                               &   NA                                                                                                                                             &  619443                                                                                                                                         \\\\\n",
       "\t 1                                                                                                                                                &    174914002                                                                                                                                     & 2  (sites)                                                                                                                                       & Kelly,J.M., Goddard,J.P. and Maden,E.H.                                                                                                          & NA                                                                                                                                               & Evidence on the conformation of HeLa-cell 5.8S ribosomal\tribonucleic acid from the reaction of specific cytidine residues\twith sodium bisulphite & Biochem. J. 173 (2), 521-532 (1978)                                                                                                              & 100103                                                                                                                                           & NA                                                                                                                                               & 1978                                                                                                                                             &   26210                                                                                                                                         \\\\\n",
       "\t 1                                                                                                                                                &   4574225001                                                                                                                                     & 1  (bases 1 to 189)                                                                                                                              & Abzhanov,A. and Kaufman,T.C.                                                                                                                     & NA                                                                                                                                               & Novel regulation of the homeotic gene Scr associated with a\tcrustacean leg-to-maxilliped appendage transformation                                & Development 126 (6), 1121-1128 (1999)                                                                                                            & 10021332                                                                                                                                         & NA                                                                                                                                               & 1999                                                                                                                                             &  188018                                                                                                                                         \\\\\n",
       "\\end{tabular}\n"
      ],
      "text/markdown": [
       "\n",
       "COUNT(*) | id | reference | authors | consortium | title | journal | pubmed | remark | year | new_id | \n",
       "|---|---|---|---|---|\n",
       "| 1                                                                                                                                                | 389621840002                                                                                                                                     | 2  (bases 1 to 683)                                                                                                                              | Zapata,S., Leon,R., Le Pont,F., Pesson,B., Ravel,C., Cruaud,C. and\tDepaquit,J.                                                                   | NA                                                                                                                                               | Direct Submission                                                                                                                                | Submitted (27-DEC-2011) Microbiology Institute, Universidad San\tFrancisco de Quito, Campus Cumbaya                                               |  Diego de Robles y Via\tInteroceanica, Quito, Pichi                                                                                               | NA                                                                                                                                               |   NA                                                                                                                                             | 1265203                                                                                                                                          | \n",
       "| 2                                                                                                                                                | 510031482002                                                                                                                                     | 2  (bases 1 to 717)                                                                                                                              | Stiebens,V.A., Merino,S.E., Roder,C., Chain,F.J.J., Lee,P.L.M. and\tEizaguirre,C.                                                                 | NA                                                                                                                                               | Direct Submission                                                                                                                                | Submitted (09-MAY-2013) Evolutionary Ecology of Marine Fishes,\tGEOMAR                                                                            |  Helmholtz Center for Ocean Research, Duesternbroo                                                                                               | NA                                                                                                                                               |   NA                                                                                                                                             | 1340234                                                                                                                                          | \n",
       "| 1                                                                                                                                                |  62241720002                                                                                                                                     | 2  (bases 1 to 611)                                                                                                                              | Burkhardt,U.                                                                                                                                     | NA                                                                                                                                               | Direct Submission                                                                                                                                | Submitted (24-FEB-2005) Burkhardt U., Department of General and\tTheoretical Ecology, University of Bremen, UFT, Leobener Strasse,\tBremen-        | -D-28359, GERMANY                                                                                                                                | NA                                                                                                                                               |   NA                                                                                                                                             |  619443                                                                                                                                          | \n",
       "| 1                                                                                                                                                |    174914002                                                                                                                                     | 2  (sites)                                                                                                                                       | Kelly,J.M., Goddard,J.P. and Maden,E.H.                                                                                                          | NA                                                                                                                                               | Evidence on the conformation of HeLa-cell 5.8S ribosomal\tribonucleic acid from the reaction of specific cytidine residues\twith sodium bisulphite | Biochem. J. 173 (2), 521-532 (1978)                                                                                                              | 100103                                                                                                                                           | NA                                                                                                                                               | 1978                                                                                                                                             |   26210                                                                                                                                          | \n",
       "| 1                                                                                                                                                |   4574225001                                                                                                                                     | 1  (bases 1 to 189)                                                                                                                              | Abzhanov,A. and Kaufman,T.C.                                                                                                                     | NA                                                                                                                                               | Novel regulation of the homeotic gene Scr associated with a\tcrustacean leg-to-maxilliped appendage transformation                                | Development 126 (6), 1121-1128 (1999)                                                                                                            | 10021332                                                                                                                                         | NA                                                                                                                                               | 1999                                                                                                                                             |  188018                                                                                                                                          | \n",
       "\n",
       "\n"
      ],
      "text/plain": [
       "  COUNT(*) id           reference          \n",
       "1 1        389621840002 2  (bases 1 to 683)\n",
       "2 2        510031482002 2  (bases 1 to 717)\n",
       "3 1         62241720002 2  (bases 1 to 611)\n",
       "4 1           174914002 2  (sites)         \n",
       "5 1          4574225001 1  (bases 1 to 189)\n",
       "  authors                                                                         \n",
       "1 Zapata,S., Leon,R., Le Pont,F., Pesson,B., Ravel,C., Cruaud,C. and\\tDepaquit,J.  \n",
       "2 Stiebens,V.A., Merino,S.E., Roder,C., Chain,F.J.J., Lee,P.L.M. and\\tEizaguirre,C.\n",
       "3 Burkhardt,U.                                                                    \n",
       "4 Kelly,J.M., Goddard,J.P. and Maden,E.H.                                         \n",
       "5 Abzhanov,A. and Kaufman,T.C.                                                    \n",
       "  consortium\n",
       "1 NA        \n",
       "2 NA        \n",
       "3 NA        \n",
       "4 NA        \n",
       "5 NA        \n",
       "  title                                                                                                                                           \n",
       "1 Direct Submission                                                                                                                               \n",
       "2 Direct Submission                                                                                                                               \n",
       "3 Direct Submission                                                                                                                               \n",
       "4 Evidence on the conformation of HeLa-cell 5.8S ribosomal\\tribonucleic acid from the reaction of specific cytidine residues\\twith sodium bisulphite\n",
       "5 Novel regulation of the homeotic gene Scr associated with a\\tcrustacean leg-to-maxilliped appendage transformation                               \n",
       "  journal                                                                                                                                  \n",
       "1 Submitted (27-DEC-2011) Microbiology Institute, Universidad San\\tFrancisco de Quito, Campus Cumbaya                                       \n",
       "2 Submitted (09-MAY-2013) Evolutionary Ecology of Marine Fishes,\\tGEOMAR                                                                    \n",
       "3 Submitted (24-FEB-2005) Burkhardt U., Department of General and\\tTheoretical Ecology, University of Bremen, UFT, Leobener Strasse,\\tBremen-\n",
       "4 Biochem. J. 173 (2), 521-532 (1978)                                                                                                      \n",
       "5 Development 126 (6), 1121-1128 (1999)                                                                                                    \n",
       "  pubmed                                             remark year new_id \n",
       "1  Diego de Robles y Via\\tInteroceanica, Quito, Pichi NA       NA 1265203\n",
       "2  Helmholtz Center for Ocean Research, Duesternbroo NA       NA 1340234\n",
       "3 -D-28359, GERMANY                                  NA       NA  619443\n",
       "4 100103                                             NA     1978   26210\n",
       "5 10021332                                           NA     1999  188018"
      ]
     },
     "metadata": {},
     "output_type": "display_data"
    },
    {
     "name": "stderr",
     "output_type": "stream",
     "text": [
      "IOPub data rate exceeded.\n",
      "The notebook server will temporarily stop sending output\n",
      "to the client in order to avoid crashing it.\n",
      "To change this limit, set the config variable\n",
      "`--NotebookApp.iopub_data_rate_limit`.\n"
     ]
    }
   ],
   "source": [
    "nrow(pubmed)\n",
    "pubmed[1:5,]"
   ]
  },
  {
   "cell_type": "code",
   "execution_count": 10,
   "metadata": {},
   "outputs": [
    {
     "data": {
      "text/html": [
       "233507"
      ],
      "text/latex": [
       "233507"
      ],
      "text/markdown": [
       "233507"
      ],
      "text/plain": [
       "[1] 233507"
      ]
     },
     "metadata": {},
     "output_type": "display_data"
    }
   ],
   "source": [
    "pubmed.df <- as.data.frame(pubmed$pubmed)\n",
    "nrow(pubmed.df)"
   ]
  },
  {
   "cell_type": "code",
   "execution_count": null,
   "metadata": {
    "collapsed": true
   },
   "outputs": [],
   "source": [
    "pubmed.df[1:8, ]\n",
    "order(-pubmed.df)"
   ]
  },
  {
   "cell_type": "markdown",
   "metadata": {},
   "source": [
    "#pubmed <- dbGetQuery(con, \"SELECT * FROM Annotation as a \n",
    "#INNER JOIN AnnotationReference as ar on a.gi = ar.gi \n",
    "#INNER JOIN Reference as r on ar.referenceID = r.id \n",
    "#WHERE r.title='The Sorcerer II Global Ocean Sampling Expedition: Northwest\tAtlantic through Eastern Tropical Pacific';\")\n",
    "\n"
   ]
  },
  {
   "cell_type": "code",
   "execution_count": 19,
   "metadata": {},
   "outputs": [
    {
     "name": "stderr",
     "output_type": "stream",
     "text": [
      "Warning message:\n",
      "\"package 'rscopus' was built under R version 3.4.2\""
     ]
    }
   ],
   "source": [
    "#install.packages(rscopus)\n",
    "library(rscopus)"
   ]
  },
  {
   "cell_type": "code",
   "execution_count": 21,
   "metadata": {},
   "outputs": [
    {
     "ename": "ERROR",
     "evalue": "Error in get_api_key(api_key, error = api_key_error): API key not found, please set option('elsevier_api_key_filename') or option('elsevier_api_key') for general use or set environment variable Elsevier_API, to be accessed by Sys.getenv('Elsevier_API')\n",
     "output_type": "error",
     "traceback": [
      "Error in get_api_key(api_key, error = api_key_error): API key not found, please set option('elsevier_api_key_filename') or option('elsevier_api_key') for general use or set environment variable Elsevier_API, to be accessed by Sys.getenv('Elsevier_API')\nTraceback:\n",
      "1. generic_elsevier_api(query = NULL, type = c(\"search\", \"article\", \n .     \"entitlement\", \"recommendation\", \"object\", \"fragment\", \"abstract\", \n .     \"affiliation\", \"embase\", \"author\", \"serial\", \"nonserial\", \n .     \"subject\", \"holdings\", \"citation-count\", \"citations\"), search_type = c(\"affiliation\", \n .     \"author\", \"scopus\", \"scidir\", \"scidir-object\"), api_key = NULL, \n .     headers = NULL, content_type = c(\"content\", \"feedback\"), \n .     root_http = \"http://api.elsevier.com\", http_end = NULL, verbose = TRUE, \n .     api_key_error = TRUE)",
      "2. get_api_key(api_key, error = api_key_error)",
      "3. stop(paste0(\"API key not found, please set \", \"option('elsevier_api_key_filename') or \", \n .     \"option('elsevier_api_key') for general use or \", \"set environment variable Elsevier_API, to be \", \n .     \"accessed by Sys.getenv('Elsevier_API')\"))"
     ]
    }
   ],
   "source": [
    "s = generic_elsevier_api(query = NULL, type = c(\"search\", \"article\",\n",
    "\"entitlement\", \"recommendation\", \"object\", \"fragment\", \"abstract\",\n",
    "\"affiliation\", \"embase\", \"author\", \"serial\", \"nonserial\", \"subject\",\n",
    "\"holdings\", \"citation-count\", \"citations\"), search_type = c(\"affiliation\",\n",
    "\"author\", \"scopus\", \"scidir\", \"scidir-object\"), api_key = NULL,\n",
    "headers = NULL, content_type = c(\"content\", \"feedback\"),\n",
    "root_http = \"http://api.elsevier.com\", http_end = NULL, verbose = TRUE,\n",
    "api_key_error = TRUE)"
   ]
  }
 ],
 "metadata": {
  "kernelspec": {
   "display_name": "R",
   "language": "R",
   "name": "ir"
  },
  "language_info": {
   "codemirror_mode": "r",
   "file_extension": ".r",
   "mimetype": "text/x-r-source",
   "name": "R",
   "pygments_lexer": "r",
   "version": "3.4.1"
  },
  "toc": {
   "nav_menu": {},
   "number_sections": true,
   "sideBar": true,
   "skip_h1_title": false,
   "toc_cell": false,
   "toc_position": {},
   "toc_section_display": "block",
   "toc_window_display": false
  },
  "varInspector": {
   "cols": {
    "lenName": 16,
    "lenType": 16,
    "lenVar": 40
   },
   "kernels_config": {
    "python": {
     "delete_cmd_postfix": "",
     "delete_cmd_prefix": "del ",
     "library": "var_list.py",
     "varRefreshCmd": "print(var_dic_list())"
    },
    "r": {
     "delete_cmd_postfix": ") ",
     "delete_cmd_prefix": "rm(",
     "library": "var_list.r",
     "varRefreshCmd": "cat(var_dic_list()) "
    }
   },
   "types_to_exclude": [
    "module",
    "function",
    "builtin_function_or_method",
    "instance",
    "_Feature"
   ],
   "window_display": false
  }
 },
 "nbformat": 4,
 "nbformat_minor": 2
}
