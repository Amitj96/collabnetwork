{
 "cells": [
  {
   "cell_type": "code",
   "execution_count": 1,
   "metadata": {},
   "outputs": [
    {
     "name": "stderr",
     "output_type": "stream",
     "text": [
      "Loading required package: RMySQL\n",
      "Loading required package: DBI\n",
      "Loading required package: gWidgets\n",
      "Loading required package: data.table\n",
      "\n",
      "Attaching package: 'igraph'\n",
      "\n",
      "The following objects are masked from 'package:stats':\n",
      "\n",
      "    decompose, spectrum\n",
      "\n",
      "The following object is masked from 'package:base':\n",
      "\n",
      "    union\n",
      "\n"
     ]
    }
   ],
   "source": [
    "library(dbConnect)\n",
    "library(splitstackshape)\n",
    "library(RMySQL)\n",
    "library(igraph)"
   ]
  },
  {
   "cell_type": "code",
   "execution_count": null,
   "metadata": {
    "collapsed": true
   },
   "outputs": [],
   "source": [
    "con<-dbConnect(MySQL(),user=\"GenBankUser\", password=\"123GenBank456\",host=\"metadatalab.syr.edu\", dbname=\"genbank\")\n"
   ]
  },
  {
   "cell_type": "code",
   "execution_count": 31,
   "metadata": {},
   "outputs": [
    {
     "data": {
      "text/plain": [
       "Time difference of 41.51537 secs"
      ]
     },
     "metadata": {},
     "output_type": "display_data"
    }
   ],
   "source": [
    "start.time <- Sys.time()\n",
    "ref<-dbGetQuery(con,\"SELECT r.id, r.authors, r.title, r.journal, r.year, COUNT(*) \n",
    "                    FROM genbank.Reference as r GROUP BY r.journal\n",
    "                    LIMIT 100000;\")\n",
    "end.time <- Sys.time()\n",
    "time.taken <- end.time - start.time\n",
    "time.taken\n",
    "#Be careful not to run this repeatedly. "
   ]
  },
  {
   "cell_type": "code",
   "execution_count": null,
   "metadata": {
    "collapsed": true
   },
   "outputs": [],
   "source": [
    "dim(ref)\n",
    "ref[1:3, ] #check the first 3 rows "
   ]
  },
  {
   "cell_type": "code",
   "execution_count": 29,
   "metadata": {},
   "outputs": [
    {
     "data": {
      "text/html": [
       "<ol class=list-inline>\n",
       "\t<li>'id'</li>\n",
       "\t<li>'authors'</li>\n",
       "\t<li>'title'</li>\n",
       "\t<li>'journal'</li>\n",
       "\t<li>'year'</li>\n",
       "\t<li>'count'</li>\n",
       "</ol>\n"
      ],
      "text/latex": [
       "\\begin{enumerate*}\n",
       "\\item 'id'\n",
       "\\item 'authors'\n",
       "\\item 'title'\n",
       "\\item 'journal'\n",
       "\\item 'year'\n",
       "\\item 'count'\n",
       "\\end{enumerate*}\n"
      ],
      "text/markdown": [
       "1. 'id'\n",
       "2. 'authors'\n",
       "3. 'title'\n",
       "4. 'journal'\n",
       "5. 'year'\n",
       "6. 'count'\n",
       "\n",
       "\n"
      ],
      "text/plain": [
       "[1] \"id\"      \"authors\" \"title\"   \"journal\" \"year\"    \"count\"  "
      ]
     },
     "metadata": {},
     "output_type": "display_data"
    },
    {
     "data": {
      "text/html": [
       "<ol class=list-inline>\n",
       "\t<li>'Var1'</li>\n",
       "\t<li>'Freq'</li>\n",
       "</ol>\n"
      ],
      "text/latex": [
       "\\begin{enumerate*}\n",
       "\\item 'Var1'\n",
       "\\item 'Freq'\n",
       "\\end{enumerate*}\n"
      ],
      "text/markdown": [
       "1. 'Var1'\n",
       "2. 'Freq'\n",
       "\n",
       "\n"
      ],
      "text/plain": [
       "[1] \"Var1\" \"Freq\""
      ]
     },
     "metadata": {},
     "output_type": "display_data"
    },
    {
     "data": {
      "image/png": "[encoded data removed]",
      "text/plain": [
       "Plot with title \"Frequency distribution of data sequences per publication n=100000\""
      ]
     },
     "metadata": {},
     "output_type": "display_data"
    }
   ],
   "source": [
    "ref[1,]<-NULL #get rid of the NULLS\n",
    "\n",
    "colnames(ref)[6]<-\"count\"\n",
    "colnames(ref)\n",
    "t<-table(ref$count)\n",
    "t<-data.frame(t)\n",
    "colnames(t)\n",
    "plot(t$Freq, main=\"Frequency distribution of data sequences per publication n=100000\")"
   ]
  },
  {
   "cell_type": "code",
   "execution_count": 17,
   "metadata": {},
   "outputs": [
    {
     "data": {
      "text/html": [
       "7"
      ],
      "text/latex": [
       "7"
      ],
      "text/markdown": [
       "7"
      ],
      "text/plain": [
       "[1] 7"
      ]
     },
     "metadata": {},
     "output_type": "display_data"
    }
   ],
   "source": [
    "authors=c(\"Turner,G.\",\"Barredo,J.L., Cantoral,J.M., Alvarez,E., Diez,B. and Martin,J.F.\",\n",
    "\"Farell,R., Gelep,P., Anilionis,A., Javaherian,K., Maione,T.E.,Rusche,J.R., Sadownick,B.A. and Jackson,J.A.\",\n",
    "\"Diez,B., Barredo,J.L., Alvarez,E., Cantoral,J.M., van Solingen,P.,Groenen,M.A., Veenstra,A.E. and Martin,J.F.\",\n",
    "\"van Solingen,P., Muurling,H., Koekman,B. and van den Berg,J.\",\"Van Solingen,P.\",\"Cantoral,J.M., Barredo,J.L., \n",
    "Alvarez,E., Diez,B. and Martin,J.F.\")\n",
    "length(authors)"
   ]
  },
  {
   "cell_type": "code",
   "execution_count": 10,
   "metadata": {},
   "outputs": [
    {
     "data": {
      "text/html": [
       "1"
      ],
      "text/latex": [
       "1"
      ],
      "text/markdown": [
       "1"
      ],
      "text/plain": [
       "[1] 1"
      ]
     },
     "metadata": {},
     "output_type": "display_data"
    }
   ],
   "source": [
    "title=c(\"Direct Submission\",\"Cloning, sequence analysis and transcriptional study of the isopenicillin N synthase of Penicillium chrysogenum AS-P-78\",\n",
    "\" \",\"Two genes involved in penicillin biosynthesis are linked in a 5.1 kb SalI fragment in the genome of Penicillium chrysogenum\",\n",
    "\"Sequence of the Penicillium chrysogenum phosphoglycerate kinase gene\",\n",
    "\"Direct Submission\", \"Nucleotide sequence of the Penicillium chrysogenum pyrG (orotidine-5'-phosphate decarboxylase) gene\")\n",
    "length(t)"
   ]
  },
  {
   "cell_type": "code",
   "execution_count": 11,
   "metadata": {
    "collapsed": true
   },
   "outputs": [],
   "source": [
    "journal=c(\"Submitted (06-AUG-1990) Turner G., Dept. of Molecular Biology & Biotechnology, Western Bank, Sheffield S10 2TN, UK\",\n",
    "\"Mol. Gen. Genet. 216 (1), 91-98 (1989)\",\n",
    "\"Unpublished\",\"Mol. Gen. Genet. 218 (3), 572-576 (1989)\", \"Nucleic Acids Res. 16 (24), 11823 (1988)\",\n",
    "\"Submitted (31-OCT-1988) Van Solingen P., Royal Gist Brocades NV,Department of Yeast and Fungal Genetics, PO Box 1, 2600 MA Delft,The Netherlands\",\n",
    "\"Nucleic Acids Res. 16 (16), 8177 (1988)\")\n",
    "#data check. \n",
    "\n",
    "year=c(\"1990\",\"1989\",\"NA\",\n",
    "\"1989\",\n",
    "\"1988\",\n",
    "\"1988\",\n",
    "\"1988\")\n"
   ]
  },
  {
   "cell_type": "code",
   "execution_count": 18,
   "metadata": {},
   "outputs": [
    {
     "data": {
      "text/html": [
       "<table>\n",
       "<thead><tr><th scope=col>authors</th><th scope=col>title</th><th scope=col>journal</th><th scope=col>year</th></tr></thead>\n",
       "<tbody>\n",
       "\t<tr><td><span style=white-space:pre-wrap>Turner,G.                                                                                                    </span>                                       </td><td><span style=white-space:pre-wrap>Direct Submission                                                                                                          </span>                         </td><td><span style=white-space:pre-wrap>Submitted (06-AUG-1990) Turner G., Dept. of Molecular Biology &amp; Biotechnology, Western Bank, Sheffield S10 2TN, UK                              </span></td><td>1990                                                                                                                                                                                        </td></tr>\n",
       "\t<tr><td>Barredo,J.L., Cantoral,J.M., Alvarez,E., Diez,B. and Martin,J.F.                                                                                </td><td>Cloning, sequence analysis and transcriptional study of the isopenicillin N synthase of Penicillium chrysogenum AS-P-78                         </td><td>Mol. Gen. Genet. 216 (1), 91-98 (1989)                                                                                                          </td><td>1989                                                                                                                                            </td></tr>\n",
       "\t<tr><td>Farell,R., Gelep,P., Anilionis,A., Javaherian,K., Maione,T.E.,Rusche,J.R., Sadownick,B.A. and Jackson,J.A.                                      </td><td>                                                                                                                                                </td><td>Unpublished                                                                                                                                     </td><td>NA                                                                                                                                              </td></tr>\n",
       "\t<tr><td>Diez,B., Barredo,J.L., Alvarez,E., Cantoral,J.M., van Solingen,P.,Groenen,M.A., Veenstra,A.E. and Martin,J.F.                                   </td><td>Two genes involved in penicillin biosynthesis are linked in a 5.1 kb SalI fragment in the genome of Penicillium chrysogenum                     </td><td>Mol. Gen. Genet. 218 (3), 572-576 (1989)                                                                                                        </td><td>1989                                                                                                                                            </td></tr>\n",
       "\t<tr><td>van Solingen,P., Muurling,H., Koekman,B. and van den Berg,J.                                                                                    </td><td>Sequence of the Penicillium chrysogenum phosphoglycerate kinase gene                                                                            </td><td>Nucleic Acids Res. 16 (24), 11823 (1988)                                                                                                        </td><td>1988                                                                                                                                            </td></tr>\n",
       "\t<tr><td>Van Solingen,P.                                                                                                                                 </td><td>Direct Submission                                                                                                                               </td><td>Submitted (31-OCT-1988) Van Solingen P., Royal Gist Brocades NV,Department of Yeast and Fungal Genetics, PO Box 1, 2600 MA Delft,The Netherlands</td><td>1988                                                                                                                                            </td></tr>\n",
       "\t<tr><td>Cantoral,J.M., Barredo,J.L., \n",
       "Alvarez,E., Diez,B. and Martin,J.F.                                                                              </td><td>Nucleotide sequence of the Penicillium chrysogenum pyrG (orotidine-5'-phosphate decarboxylase) gene                                             </td><td>Nucleic Acids Res. 16 (16), 8177 (1988)                                                                                                         </td><td>1988                                                                                                                                            </td></tr>\n",
       "</tbody>\n",
       "</table>\n"
      ],
      "text/latex": [
       "\\begin{tabular}{r|llll}\n",
       " authors & title & journal & year\\\\\n",
       "\\hline\n",
       "\t Turner,G.                                                                                                                                          & Direct Submission                                                                                                                                  & Submitted (06-AUG-1990) Turner G., Dept. of Molecular Biology \\& Biotechnology, Western Bank, Sheffield S10 2TN, UK                               & 1990                                                                                                                                              \\\\\n",
       "\t Barredo,J.L., Cantoral,J.M., Alvarez,E., Diez,B. and Martin,J.F.                                                                                 & Cloning, sequence analysis and transcriptional study of the isopenicillin N synthase of Penicillium chrysogenum AS-P-78                          & Mol. Gen. Genet. 216 (1), 91-98 (1989)                                                                                                           & 1989                                                                                                                                            \\\\\n",
       "\t Farell,R., Gelep,P., Anilionis,A., Javaherian,K., Maione,T.E.,Rusche,J.R., Sadownick,B.A. and Jackson,J.A.                                       &                                                                                                                                                  & Unpublished                                                                                                                                      & NA                                                                                                                                              \\\\\n",
       "\t Diez,B., Barredo,J.L., Alvarez,E., Cantoral,J.M., van Solingen,P.,Groenen,M.A., Veenstra,A.E. and Martin,J.F.                                    & Two genes involved in penicillin biosynthesis are linked in a 5.1 kb SalI fragment in the genome of Penicillium chrysogenum                      & Mol. Gen. Genet. 218 (3), 572-576 (1989)                                                                                                         & 1989                                                                                                                                            \\\\\n",
       "\t van Solingen,P., Muurling,H., Koekman,B. and van den Berg,J.                                                                                     & Sequence of the Penicillium chrysogenum phosphoglycerate kinase gene                                                                             & Nucleic Acids Res. 16 (24), 11823 (1988)                                                                                                         & 1988                                                                                                                                            \\\\\n",
       "\t Van Solingen,P.                                                                                                                                  & Direct Submission                                                                                                                                & Submitted (31-OCT-1988) Van Solingen P., Royal Gist Brocades NV,Department of Yeast and Fungal Genetics, PO Box 1, 2600 MA Delft,The Netherlands & 1988                                                                                                                                            \\\\\n",
       "\t Cantoral,J.M., Barredo,J.L., \n",
       "Alvarez,E., Diez,B. and Martin,J.F.                                                                               & Nucleotide sequence of the Penicillium chrysogenum pyrG (orotidine-5'-phosphate decarboxylase) gene                                              & Nucleic Acids Res. 16 (16), 8177 (1988)                                                                                                          & 1988                                                                                                                                            \\\\\n",
       "\\end{tabular}\n"
      ],
      "text/markdown": [
       "\n",
       "authors | title | journal | year | \n",
       "|---|---|---|---|---|---|---|\n",
       "| Turner,G.                                                                                                                                        | Direct Submission                                                                                                                                | Submitted (06-AUG-1990) Turner G., Dept. of Molecular Biology & Biotechnology, Western Bank, Sheffield S10 2TN, UK                               | 1990                                                                                                                                             | \n",
       "| Barredo,J.L., Cantoral,J.M., Alvarez,E., Diez,B. and Martin,J.F.                                                                                 | Cloning, sequence analysis and transcriptional study of the isopenicillin N synthase of Penicillium chrysogenum AS-P-78                          | Mol. Gen. Genet. 216 (1), 91-98 (1989)                                                                                                           | 1989                                                                                                                                             | \n",
       "| Farell,R., Gelep,P., Anilionis,A., Javaherian,K., Maione,T.E.,Rusche,J.R., Sadownick,B.A. and Jackson,J.A.                                       |                                                                                                                                                  | Unpublished                                                                                                                                      | NA                                                                                                                                               | \n",
       "| Diez,B., Barredo,J.L., Alvarez,E., Cantoral,J.M., van Solingen,P.,Groenen,M.A., Veenstra,A.E. and Martin,J.F.                                    | Two genes involved in penicillin biosynthesis are linked in a 5.1 kb SalI fragment in the genome of Penicillium chrysogenum                      | Mol. Gen. Genet. 218 (3), 572-576 (1989)                                                                                                         | 1989                                                                                                                                             | \n",
       "| van Solingen,P., Muurling,H., Koekman,B. and van den Berg,J.                                                                                     | Sequence of the Penicillium chrysogenum phosphoglycerate kinase gene                                                                             | Nucleic Acids Res. 16 (24), 11823 (1988)                                                                                                         | 1988                                                                                                                                             | \n",
       "| Van Solingen,P.                                                                                                                                  | Direct Submission                                                                                                                                | Submitted (31-OCT-1988) Van Solingen P., Royal Gist Brocades NV,Department of Yeast and Fungal Genetics, PO Box 1, 2600 MA Delft,The Netherlands | 1988                                                                                                                                             | \n",
       "| Cantoral,J.M., Barredo,J.L., \n",
       "Alvarez,E., Diez,B. and Martin,J.F.                                                                               | Nucleotide sequence of the Penicillium chrysogenum pyrG (orotidine-5'-phosphate decarboxylase) gene                                              | Nucleic Acids Res. 16 (16), 8177 (1988)                                                                                                          | 1988                                                                                                                                             | \n",
       "\n",
       "\n"
      ],
      "text/plain": [
       "  authors                                                                                                      \n",
       "1 Turner,G.                                                                                                    \n",
       "2 Barredo,J.L., Cantoral,J.M., Alvarez,E., Diez,B. and Martin,J.F.                                             \n",
       "3 Farell,R., Gelep,P., Anilionis,A., Javaherian,K., Maione,T.E.,Rusche,J.R., Sadownick,B.A. and Jackson,J.A.   \n",
       "4 Diez,B., Barredo,J.L., Alvarez,E., Cantoral,J.M., van Solingen,P.,Groenen,M.A., Veenstra,A.E. and Martin,J.F.\n",
       "5 van Solingen,P., Muurling,H., Koekman,B. and van den Berg,J.                                                 \n",
       "6 Van Solingen,P.                                                                                              \n",
       "7 Cantoral,J.M., Barredo,J.L., \\nAlvarez,E., Diez,B. and Martin,J.F.                                           \n",
       "  title                                                                                                                      \n",
       "1 Direct Submission                                                                                                          \n",
       "2 Cloning, sequence analysis and transcriptional study of the isopenicillin N synthase of Penicillium chrysogenum AS-P-78    \n",
       "3                                                                                                                            \n",
       "4 Two genes involved in penicillin biosynthesis are linked in a 5.1 kb SalI fragment in the genome of Penicillium chrysogenum\n",
       "5 Sequence of the Penicillium chrysogenum phosphoglycerate kinase gene                                                       \n",
       "6 Direct Submission                                                                                                          \n",
       "7 Nucleotide sequence of the Penicillium chrysogenum pyrG (orotidine-5'-phosphate decarboxylase) gene                        \n",
       "  journal                                                                                                                                         \n",
       "1 Submitted (06-AUG-1990) Turner G., Dept. of Molecular Biology & Biotechnology, Western Bank, Sheffield S10 2TN, UK                              \n",
       "2 Mol. Gen. Genet. 216 (1), 91-98 (1989)                                                                                                          \n",
       "3 Unpublished                                                                                                                                     \n",
       "4 Mol. Gen. Genet. 218 (3), 572-576 (1989)                                                                                                        \n",
       "5 Nucleic Acids Res. 16 (24), 11823 (1988)                                                                                                        \n",
       "6 Submitted (31-OCT-1988) Van Solingen P., Royal Gist Brocades NV,Department of Yeast and Fungal Genetics, PO Box 1, 2600 MA Delft,The Netherlands\n",
       "7 Nucleic Acids Res. 16 (16), 8177 (1988)                                                                                                         \n",
       "  year\n",
       "1 1990\n",
       "2 1989\n",
       "3 NA  \n",
       "4 1989\n",
       "5 1988\n",
       "6 1988\n",
       "7 1988"
      ]
     },
     "metadata": {},
     "output_type": "display_data"
    }
   ],
   "source": [
    "df=data.frame(authors, title,journal,year)\n",
    "df"
   ]
  },
  {
   "cell_type": "code",
   "execution_count": 14,
   "metadata": {},
   "outputs": [
    {
     "data": {
      "text/html": [
       "<table>\n",
       "<thead><tr><th scope=col>journal</th></tr></thead>\n",
       "<tbody>\n",
       "\t<tr><td><span style=white-space:pre-wrap>Submitted (06-AUG-1990) Turner G., Dept. of Molecular Biology &amp; Biotechnology, Western Bank, Sheffield S10 2TN, UK                              </span></td></tr>\n",
       "\t<tr><td>Mol. Gen. Genet. 216 (1), 91-98 (1989)                                                                                                          </td></tr>\n",
       "\t<tr><td>Unpublished                                                                                                                                     </td></tr>\n",
       "\t<tr><td>Mol. Gen. Genet. 218 (3), 572-576 (1989)                                                                                                        </td></tr>\n",
       "\t<tr><td>Nucleic Acids Res. 16 (24), 11823 (1988)                                                                                                        </td></tr>\n",
       "\t<tr><td>Submitted (31-OCT-1988) Van Solingen P., Royal Gist Brocades NV,Department of Yeast and Fungal Genetics, PO Box 1, 2600 MA Delft,The Netherlands</td></tr>\n",
       "\t<tr><td>Nucleic Acids Res. 16 (16), 8177 (1988)                                                                                                         </td></tr>\n",
       "</tbody>\n",
       "</table>\n"
      ],
      "text/latex": [
       "\\begin{tabular}{r|l}\n",
       " journal\\\\\n",
       "\\hline\n",
       "\t Submitted (06-AUG-1990) Turner G., Dept. of Molecular Biology \\& Biotechnology, Western Bank, Sheffield S10 2TN, UK                              \\\\\n",
       "\t Mol. Gen. Genet. 216 (1), 91-98 (1989)                                                                                                          \\\\\n",
       "\t Unpublished                                                                                                                                     \\\\\n",
       "\t Mol. Gen. Genet. 218 (3), 572-576 (1989)                                                                                                        \\\\\n",
       "\t Nucleic Acids Res. 16 (24), 11823 (1988)                                                                                                        \\\\\n",
       "\t Submitted (31-OCT-1988) Van Solingen P., Royal Gist Brocades NV,Department of Yeast and Fungal Genetics, PO Box 1, 2600 MA Delft,The Netherlands\\\\\n",
       "\t Nucleic Acids Res. 16 (16), 8177 (1988)                                                                                                         \\\\\n",
       "\\end{tabular}\n"
      ],
      "text/markdown": [
       "\n",
       "journal | \n",
       "|---|---|---|---|---|---|---|\n",
       "| Submitted (06-AUG-1990) Turner G., Dept. of Molecular Biology & Biotechnology, Western Bank, Sheffield S10 2TN, UK                               | \n",
       "| Mol. Gen. Genet. 216 (1), 91-98 (1989)                                                                                                           | \n",
       "| Unpublished                                                                                                                                      | \n",
       "| Mol. Gen. Genet. 218 (3), 572-576 (1989)                                                                                                         | \n",
       "| Nucleic Acids Res. 16 (24), 11823 (1988)                                                                                                         | \n",
       "| Submitted (31-OCT-1988) Van Solingen P., Royal Gist Brocades NV,Department of Yeast and Fungal Genetics, PO Box 1, 2600 MA Delft,The Netherlands | \n",
       "| Nucleic Acids Res. 16 (16), 8177 (1988)                                                                                                          | \n",
       "\n",
       "\n"
      ],
      "text/plain": [
       "  journal                                                                                                                                         \n",
       "1 Submitted (06-AUG-1990) Turner G., Dept. of Molecular Biology & Biotechnology, Western Bank, Sheffield S10 2TN, UK                              \n",
       "2 Mol. Gen. Genet. 216 (1), 91-98 (1989)                                                                                                          \n",
       "3 Unpublished                                                                                                                                     \n",
       "4 Mol. Gen. Genet. 218 (3), 572-576 (1989)                                                                                                        \n",
       "5 Nucleic Acids Res. 16 (24), 11823 (1988)                                                                                                        \n",
       "6 Submitted (31-OCT-1988) Van Solingen P., Royal Gist Brocades NV,Department of Yeast and Fungal Genetics, PO Box 1, 2600 MA Delft,The Netherlands\n",
       "7 Nucleic Acids Res. 16 (16), 8177 (1988)                                                                                                         "
      ]
     },
     "metadata": {},
     "output_type": "display_data"
    }
   ],
   "source": [
    "#Transpose the authors into a format for iGraph analysis\n",
    "Journal=as.data.frame(journal)\n"
   ]
  },
  {
   "cell_type": "code",
   "execution_count": 39,
   "metadata": {},
   "outputs": [
    {
     "data": {
      "text/html": [
       "<ol class=list-inline>\n",
       "\t<li>'data.table'</li>\n",
       "\t<li>'data.frame'</li>\n",
       "</ol>\n"
      ],
      "text/latex": [
       "\\begin{enumerate*}\n",
       "\\item 'data.table'\n",
       "\\item 'data.frame'\n",
       "\\end{enumerate*}\n"
      ],
      "text/markdown": [
       "1. 'data.table'\n",
       "2. 'data.frame'\n",
       "\n",
       "\n"
      ],
      "text/plain": [
       "[1] \"data.table\" \"data.frame\""
      ]
     },
     "metadata": {},
     "output_type": "display_data"
    },
    {
     "data": {
      "text/html": [
       "<ol class=list-inline>\n",
       "\t<li>'authors'</li>\n",
       "\t<li>'title'</li>\n",
       "\t<li>'journal'</li>\n",
       "\t<li>'year'</li>\n",
       "</ol>\n"
      ],
      "text/latex": [
       "\\begin{enumerate*}\n",
       "\\item 'authors'\n",
       "\\item 'title'\n",
       "\\item 'journal'\n",
       "\\item 'year'\n",
       "\\end{enumerate*}\n"
      ],
      "text/markdown": [
       "1. 'authors'\n",
       "2. 'title'\n",
       "3. 'journal'\n",
       "4. 'year'\n",
       "\n",
       "\n"
      ],
      "text/plain": [
       "[1] \"authors\" \"title\"   \"journal\" \"year\"   "
      ]
     },
     "metadata": {},
     "output_type": "display_data"
    },
    {
     "data": {
      "text/html": [
       "<table>\n",
       "<thead><tr><th scope=col>authors</th><th scope=col>title</th><th scope=col>journal</th><th scope=col>year</th></tr></thead>\n",
       "<tbody>\n",
       "\t<tr><td><span style=white-space:pre-wrap>Turner,G.                                                                                                 </span>                                          </td><td><span style=white-space:pre-wrap>Direct Submission                                                                                                          </span>                         </td><td><span style=white-space:pre-wrap>Submitted (06-AUG-1990) Turner G., Dept. of Molecular Biology &amp; Biotechnology, Western Bank, Sheffield S10 2TN, UK                              </span></td><td>1990                                                                                                                                                                                        </td></tr>\n",
       "\t<tr><td>Barredo,J.L., Cantoral,J.M., Alvarez,E., Diez,B., Martin,J.F.                                                                                   </td><td>Cloning, sequence analysis and transcriptional study of the isopenicillin N synthase of Penicillium chrysogenum AS-P-78                         </td><td>Mol. Gen. Genet. 216 (1), 91-98 (1989)                                                                                                          </td><td>1989                                                                                                                                            </td></tr>\n",
       "\t<tr><td>Farell,R., Gelep,P., Anilionis,A., Javaherian,K., Maione,T.E.,Rusche,J.R., Sadownick,B.A., Jackson,J.A.                                         </td><td>                                                                                                                                                </td><td>Unpublished                                                                                                                                     </td><td>NA                                                                                                                                              </td></tr>\n",
       "\t<tr><td>Diez,B., Barredo,J.L., Alvarez,E., Cantoral,J.M., van Solingen,P.,Groenen,M.A., Veenstra,A.E., Martin,J.F.                                      </td><td>Two genes involved in penicillin biosynthesis are linked in a 5.1 kb SalI fragment in the genome of Penicillium chrysogenum                     </td><td>Mol. Gen. Genet. 218 (3), 572-576 (1989)                                                                                                        </td><td>1989                                                                                                                                            </td></tr>\n",
       "\t<tr><td>van Solingen,P., Muurling,H., Koekman,B., van den Berg,J.                                                                                       </td><td>Sequence of the Penicillium chrysogenum phosphoglycerate kinase gene                                                                            </td><td>Nucleic Acids Res. 16 (24), 11823 (1988)                                                                                                        </td><td>1988                                                                                                                                            </td></tr>\n",
       "\t<tr><td>Van Solingen,P.                                                                                                                                 </td><td>Direct Submission                                                                                                                               </td><td>Submitted (31-OCT-1988) Van Solingen P., Royal Gist Brocades NV,Department of Yeast and Fungal Genetics, PO Box 1, 2600 MA Delft,The Netherlands</td><td>1988                                                                                                                                            </td></tr>\n",
       "\t<tr><td>Cantoral,J.M., Barredo,J.L., \n",
       "Alvarez,E., Diez,B., Martin,J.F.                                                                                 </td><td>Nucleotide sequence of the Penicillium chrysogenum pyrG (orotidine-5'-phosphate decarboxylase) gene                                             </td><td>Nucleic Acids Res. 16 (16), 8177 (1988)                                                                                                         </td><td>1988                                                                                                                                            </td></tr>\n",
       "</tbody>\n",
       "</table>\n"
      ],
      "text/latex": [
       "\\begin{tabular}{r|llll}\n",
       " authors & title & journal & year\\\\\n",
       "\\hline\n",
       "\t Turner,G.                                                                                                                                          & Direct Submission                                                                                                                                  & Submitted (06-AUG-1990) Turner G., Dept. of Molecular Biology \\& Biotechnology, Western Bank, Sheffield S10 2TN, UK                               & 1990                                                                                                                                              \\\\\n",
       "\t Barredo,J.L., Cantoral,J.M., Alvarez,E., Diez,B., Martin,J.F.                                                                                    & Cloning, sequence analysis and transcriptional study of the isopenicillin N synthase of Penicillium chrysogenum AS-P-78                          & Mol. Gen. Genet. 216 (1), 91-98 (1989)                                                                                                           & 1989                                                                                                                                            \\\\\n",
       "\t Farell,R., Gelep,P., Anilionis,A., Javaherian,K., Maione,T.E.,Rusche,J.R., Sadownick,B.A., Jackson,J.A.                                          &                                                                                                                                                  & Unpublished                                                                                                                                      & NA                                                                                                                                              \\\\\n",
       "\t Diez,B., Barredo,J.L., Alvarez,E., Cantoral,J.M., van Solingen,P.,Groenen,M.A., Veenstra,A.E., Martin,J.F.                                       & Two genes involved in penicillin biosynthesis are linked in a 5.1 kb SalI fragment in the genome of Penicillium chrysogenum                      & Mol. Gen. Genet. 218 (3), 572-576 (1989)                                                                                                         & 1989                                                                                                                                            \\\\\n",
       "\t van Solingen,P., Muurling,H., Koekman,B., van den Berg,J.                                                                                        & Sequence of the Penicillium chrysogenum phosphoglycerate kinase gene                                                                             & Nucleic Acids Res. 16 (24), 11823 (1988)                                                                                                         & 1988                                                                                                                                            \\\\\n",
       "\t Van Solingen,P.                                                                                                                                  & Direct Submission                                                                                                                                & Submitted (31-OCT-1988) Van Solingen P., Royal Gist Brocades NV,Department of Yeast and Fungal Genetics, PO Box 1, 2600 MA Delft,The Netherlands & 1988                                                                                                                                            \\\\\n",
       "\t Cantoral,J.M., Barredo,J.L., \n",
       "Alvarez,E., Diez,B., Martin,J.F.                                                                                  & Nucleotide sequence of the Penicillium chrysogenum pyrG (orotidine-5'-phosphate decarboxylase) gene                                              & Nucleic Acids Res. 16 (16), 8177 (1988)                                                                                                          & 1988                                                                                                                                            \\\\\n",
       "\\end{tabular}\n"
      ],
      "text/markdown": [
       "\n",
       "authors | title | journal | year | \n",
       "|---|---|---|---|---|---|---|\n",
       "| Turner,G.                                                                                                                                        | Direct Submission                                                                                                                                | Submitted (06-AUG-1990) Turner G., Dept. of Molecular Biology & Biotechnology, Western Bank, Sheffield S10 2TN, UK                               | 1990                                                                                                                                             | \n",
       "| Barredo,J.L., Cantoral,J.M., Alvarez,E., Diez,B., Martin,J.F.                                                                                    | Cloning, sequence analysis and transcriptional study of the isopenicillin N synthase of Penicillium chrysogenum AS-P-78                          | Mol. Gen. Genet. 216 (1), 91-98 (1989)                                                                                                           | 1989                                                                                                                                             | \n",
       "| Farell,R., Gelep,P., Anilionis,A., Javaherian,K., Maione,T.E.,Rusche,J.R., Sadownick,B.A., Jackson,J.A.                                          |                                                                                                                                                  | Unpublished                                                                                                                                      | NA                                                                                                                                               | \n",
       "| Diez,B., Barredo,J.L., Alvarez,E., Cantoral,J.M., van Solingen,P.,Groenen,M.A., Veenstra,A.E., Martin,J.F.                                       | Two genes involved in penicillin biosynthesis are linked in a 5.1 kb SalI fragment in the genome of Penicillium chrysogenum                      | Mol. Gen. Genet. 218 (3), 572-576 (1989)                                                                                                         | 1989                                                                                                                                             | \n",
       "| van Solingen,P., Muurling,H., Koekman,B., van den Berg,J.                                                                                        | Sequence of the Penicillium chrysogenum phosphoglycerate kinase gene                                                                             | Nucleic Acids Res. 16 (24), 11823 (1988)                                                                                                         | 1988                                                                                                                                             | \n",
       "| Van Solingen,P.                                                                                                                                  | Direct Submission                                                                                                                                | Submitted (31-OCT-1988) Van Solingen P., Royal Gist Brocades NV,Department of Yeast and Fungal Genetics, PO Box 1, 2600 MA Delft,The Netherlands | 1988                                                                                                                                             | \n",
       "| Cantoral,J.M., Barredo,J.L., \n",
       "Alvarez,E., Diez,B., Martin,J.F.                                                                                  | Nucleotide sequence of the Penicillium chrysogenum pyrG (orotidine-5'-phosphate decarboxylase) gene                                              | Nucleic Acids Res. 16 (16), 8177 (1988)                                                                                                          | 1988                                                                                                                                             | \n",
       "\n",
       "\n"
      ],
      "text/plain": [
       "  authors                                                                                                   \n",
       "1 Turner,G.                                                                                                 \n",
       "2 Barredo,J.L., Cantoral,J.M., Alvarez,E., Diez,B., Martin,J.F.                                             \n",
       "3 Farell,R., Gelep,P., Anilionis,A., Javaherian,K., Maione,T.E.,Rusche,J.R., Sadownick,B.A., Jackson,J.A.   \n",
       "4 Diez,B., Barredo,J.L., Alvarez,E., Cantoral,J.M., van Solingen,P.,Groenen,M.A., Veenstra,A.E., Martin,J.F.\n",
       "5 van Solingen,P., Muurling,H., Koekman,B., van den Berg,J.                                                 \n",
       "6 Van Solingen,P.                                                                                           \n",
       "7 Cantoral,J.M., Barredo,J.L., \\nAlvarez,E., Diez,B., Martin,J.F.                                           \n",
       "  title                                                                                                                      \n",
       "1 Direct Submission                                                                                                          \n",
       "2 Cloning, sequence analysis and transcriptional study of the isopenicillin N synthase of Penicillium chrysogenum AS-P-78    \n",
       "3                                                                                                                            \n",
       "4 Two genes involved in penicillin biosynthesis are linked in a 5.1 kb SalI fragment in the genome of Penicillium chrysogenum\n",
       "5 Sequence of the Penicillium chrysogenum phosphoglycerate kinase gene                                                       \n",
       "6 Direct Submission                                                                                                          \n",
       "7 Nucleotide sequence of the Penicillium chrysogenum pyrG (orotidine-5'-phosphate decarboxylase) gene                        \n",
       "  journal                                                                                                                                         \n",
       "1 Submitted (06-AUG-1990) Turner G., Dept. of Molecular Biology & Biotechnology, Western Bank, Sheffield S10 2TN, UK                              \n",
       "2 Mol. Gen. Genet. 216 (1), 91-98 (1989)                                                                                                          \n",
       "3 Unpublished                                                                                                                                     \n",
       "4 Mol. Gen. Genet. 218 (3), 572-576 (1989)                                                                                                        \n",
       "5 Nucleic Acids Res. 16 (24), 11823 (1988)                                                                                                        \n",
       "6 Submitted (31-OCT-1988) Van Solingen P., Royal Gist Brocades NV,Department of Yeast and Fungal Genetics, PO Box 1, 2600 MA Delft,The Netherlands\n",
       "7 Nucleic Acids Res. 16 (16), 8177 (1988)                                                                                                         \n",
       "  year\n",
       "1 1990\n",
       "2 1989\n",
       "3 NA  \n",
       "4 1989\n",
       "5 1988\n",
       "6 1988\n",
       "7 1988"
      ]
     },
     "metadata": {},
     "output_type": "display_data"
    }
   ],
   "source": [
    "df.auths<-df\n",
    "df.auths<-as.data.table(df.auths)\n",
    "class(df.auths)\n",
    "df.auths$authors<- gsub(\" and\",\",\", df.auths$authors)\n",
    "df.auths$authors <- gsub(\" and \",\",\", df.auths$authors)\n",
    "df.auths$authors <- gsub(\"and \",\",\", df.auths$authors)\n",
    "\n",
    "#substitute for the three variants in formatting for the author names. \n",
    "colnames(df.auths)\n"
   ]
  },
  {
   "cell_type": "code",
   "execution_count": 42,
   "metadata": {},
   "outputs": [
    {
     "data": {
      "text/html": [
       "<table>\n",
       "<thead><tr><th scope=col>authors</th><th scope=col>title</th><th scope=col>journal</th><th scope=col>year</th><th scope=col>type</th></tr></thead>\n",
       "<tbody>\n",
       "\t<tr><td><span style=white-space:pre-wrap>Turner,G.                                                                                                 </span>                                          </td><td><span style=white-space:pre-wrap>Direct Submission                                                                                                          </span>                         </td><td><span style=white-space:pre-wrap>Submitted (06-AUG-1990) Turner G., Dept. of Molecular Biology &amp; Biotechnology, Western Bank, Sheffield S10 2TN, UK                              </span></td><td>1990                                                                                                                                                                                        </td><td>submission                                                                                                                                                                                  </td></tr>\n",
       "\t<tr><td>Barredo,J.L., Cantoral,J.M., Alvarez,E., Diez,B., Martin,J.F.                                                                                   </td><td>Cloning, sequence analysis and transcriptional study of the isopenicillin N synthase of Penicillium chrysogenum AS-P-78                         </td><td>Mol. Gen. Genet. 216 (1), 91-98 (1989)                                                                                                          </td><td>1989                                                                                                                                            </td><td>publication                                                                                                                                     </td></tr>\n",
       "\t<tr><td>Farell,R., Gelep,P., Anilionis,A., Javaherian,K., Maione,T.E.,Rusche,J.R., Sadownick,B.A., Jackson,J.A.                                         </td><td>                                                                                                                                                </td><td>Unpublished                                                                                                                                     </td><td>NA                                                                                                                                              </td><td>Unpublished                                                                                                                                     </td></tr>\n",
       "\t<tr><td>Diez,B., Barredo,J.L., Alvarez,E., Cantoral,J.M., van Solingen,P.,Groenen,M.A., Veenstra,A.E., Martin,J.F.                                      </td><td>Two genes involved in penicillin biosynthesis are linked in a 5.1 kb SalI fragment in the genome of Penicillium chrysogenum                     </td><td>Mol. Gen. Genet. 218 (3), 572-576 (1989)                                                                                                        </td><td>1989                                                                                                                                            </td><td>publication                                                                                                                                     </td></tr>\n",
       "\t<tr><td>van Solingen,P., Muurling,H., Koekman,B., van den Berg,J.                                                                                       </td><td>Sequence of the Penicillium chrysogenum phosphoglycerate kinase gene                                                                            </td><td>Nucleic Acids Res. 16 (24), 11823 (1988)                                                                                                        </td><td>1988                                                                                                                                            </td><td>publication                                                                                                                                     </td></tr>\n",
       "\t<tr><td>Van Solingen,P.                                                                                                                                 </td><td>Direct Submission                                                                                                                               </td><td>Submitted (31-OCT-1988) Van Solingen P., Royal Gist Brocades NV,Department of Yeast and Fungal Genetics, PO Box 1, 2600 MA Delft,The Netherlands</td><td>1988                                                                                                                                            </td><td>submission                                                                                                                                      </td></tr>\n",
       "\t<tr><td>Cantoral,J.M., Barredo,J.L., \n",
       "Alvarez,E., Diez,B., Martin,J.F.                                                                                 </td><td>Nucleotide sequence of the Penicillium chrysogenum pyrG (orotidine-5'-phosphate decarboxylase) gene                                             </td><td>Nucleic Acids Res. 16 (16), 8177 (1988)                                                                                                         </td><td>1988                                                                                                                                            </td><td>publication                                                                                                                                     </td></tr>\n",
       "</tbody>\n",
       "</table>\n"
      ],
      "text/latex": [
       "\\begin{tabular}{r|lllll}\n",
       " authors & title & journal & year & type\\\\\n",
       "\\hline\n",
       "\t Turner,G.                                                                                                                                          & Direct Submission                                                                                                                                  & Submitted (06-AUG-1990) Turner G., Dept. of Molecular Biology \\& Biotechnology, Western Bank, Sheffield S10 2TN, UK                               & 1990                                                                                                                                               & submission                                                                                                                                        \\\\\n",
       "\t Barredo,J.L., Cantoral,J.M., Alvarez,E., Diez,B., Martin,J.F.                                                                                    & Cloning, sequence analysis and transcriptional study of the isopenicillin N synthase of Penicillium chrysogenum AS-P-78                          & Mol. Gen. Genet. 216 (1), 91-98 (1989)                                                                                                           & 1989                                                                                                                                             & publication                                                                                                                                     \\\\\n",
       "\t Farell,R., Gelep,P., Anilionis,A., Javaherian,K., Maione,T.E.,Rusche,J.R., Sadownick,B.A., Jackson,J.A.                                          &                                                                                                                                                  & Unpublished                                                                                                                                      & NA                                                                                                                                               & Unpublished                                                                                                                                     \\\\\n",
       "\t Diez,B., Barredo,J.L., Alvarez,E., Cantoral,J.M., van Solingen,P.,Groenen,M.A., Veenstra,A.E., Martin,J.F.                                       & Two genes involved in penicillin biosynthesis are linked in a 5.1 kb SalI fragment in the genome of Penicillium chrysogenum                      & Mol. Gen. Genet. 218 (3), 572-576 (1989)                                                                                                         & 1989                                                                                                                                             & publication                                                                                                                                     \\\\\n",
       "\t van Solingen,P., Muurling,H., Koekman,B., van den Berg,J.                                                                                        & Sequence of the Penicillium chrysogenum phosphoglycerate kinase gene                                                                             & Nucleic Acids Res. 16 (24), 11823 (1988)                                                                                                         & 1988                                                                                                                                             & publication                                                                                                                                     \\\\\n",
       "\t Van Solingen,P.                                                                                                                                  & Direct Submission                                                                                                                                & Submitted (31-OCT-1988) Van Solingen P., Royal Gist Brocades NV,Department of Yeast and Fungal Genetics, PO Box 1, 2600 MA Delft,The Netherlands & 1988                                                                                                                                             & submission                                                                                                                                      \\\\\n",
       "\t Cantoral,J.M., Barredo,J.L., \n",
       "Alvarez,E., Diez,B., Martin,J.F.                                                                                  & Nucleotide sequence of the Penicillium chrysogenum pyrG (orotidine-5'-phosphate decarboxylase) gene                                              & Nucleic Acids Res. 16 (16), 8177 (1988)                                                                                                          & 1988                                                                                                                                             & publication                                                                                                                                     \\\\\n",
       "\\end{tabular}\n"
      ],
      "text/markdown": [
       "\n",
       "authors | title | journal | year | type | \n",
       "|---|---|---|---|---|---|---|\n",
       "| Turner,G.                                                                                                                                        | Direct Submission                                                                                                                                | Submitted (06-AUG-1990) Turner G., Dept. of Molecular Biology & Biotechnology, Western Bank, Sheffield S10 2TN, UK                               | 1990                                                                                                                                             | submission                                                                                                                                       | \n",
       "| Barredo,J.L., Cantoral,J.M., Alvarez,E., Diez,B., Martin,J.F.                                                                                    | Cloning, sequence analysis and transcriptional study of the isopenicillin N synthase of Penicillium chrysogenum AS-P-78                          | Mol. Gen. Genet. 216 (1), 91-98 (1989)                                                                                                           | 1989                                                                                                                                             | publication                                                                                                                                      | \n",
       "| Farell,R., Gelep,P., Anilionis,A., Javaherian,K., Maione,T.E.,Rusche,J.R., Sadownick,B.A., Jackson,J.A.                                          |                                                                                                                                                  | Unpublished                                                                                                                                      | NA                                                                                                                                               | Unpublished                                                                                                                                      | \n",
       "| Diez,B., Barredo,J.L., Alvarez,E., Cantoral,J.M., van Solingen,P.,Groenen,M.A., Veenstra,A.E., Martin,J.F.                                       | Two genes involved in penicillin biosynthesis are linked in a 5.1 kb SalI fragment in the genome of Penicillium chrysogenum                      | Mol. Gen. Genet. 218 (3), 572-576 (1989)                                                                                                         | 1989                                                                                                                                             | publication                                                                                                                                      | \n",
       "| van Solingen,P., Muurling,H., Koekman,B., van den Berg,J.                                                                                        | Sequence of the Penicillium chrysogenum phosphoglycerate kinase gene                                                                             | Nucleic Acids Res. 16 (24), 11823 (1988)                                                                                                         | 1988                                                                                                                                             | publication                                                                                                                                      | \n",
       "| Van Solingen,P.                                                                                                                                  | Direct Submission                                                                                                                                | Submitted (31-OCT-1988) Van Solingen P., Royal Gist Brocades NV,Department of Yeast and Fungal Genetics, PO Box 1, 2600 MA Delft,The Netherlands | 1988                                                                                                                                             | submission                                                                                                                                       | \n",
       "| Cantoral,J.M., Barredo,J.L., \n",
       "Alvarez,E., Diez,B., Martin,J.F.                                                                                  | Nucleotide sequence of the Penicillium chrysogenum pyrG (orotidine-5'-phosphate decarboxylase) gene                                              | Nucleic Acids Res. 16 (16), 8177 (1988)                                                                                                          | 1988                                                                                                                                             | publication                                                                                                                                      | \n",
       "\n",
       "\n"
      ],
      "text/plain": [
       "  authors                                                                                                   \n",
       "1 Turner,G.                                                                                                 \n",
       "2 Barredo,J.L., Cantoral,J.M., Alvarez,E., Diez,B., Martin,J.F.                                             \n",
       "3 Farell,R., Gelep,P., Anilionis,A., Javaherian,K., Maione,T.E.,Rusche,J.R., Sadownick,B.A., Jackson,J.A.   \n",
       "4 Diez,B., Barredo,J.L., Alvarez,E., Cantoral,J.M., van Solingen,P.,Groenen,M.A., Veenstra,A.E., Martin,J.F.\n",
       "5 van Solingen,P., Muurling,H., Koekman,B., van den Berg,J.                                                 \n",
       "6 Van Solingen,P.                                                                                           \n",
       "7 Cantoral,J.M., Barredo,J.L., \\nAlvarez,E., Diez,B., Martin,J.F.                                           \n",
       "  title                                                                                                                      \n",
       "1 Direct Submission                                                                                                          \n",
       "2 Cloning, sequence analysis and transcriptional study of the isopenicillin N synthase of Penicillium chrysogenum AS-P-78    \n",
       "3                                                                                                                            \n",
       "4 Two genes involved in penicillin biosynthesis are linked in a 5.1 kb SalI fragment in the genome of Penicillium chrysogenum\n",
       "5 Sequence of the Penicillium chrysogenum phosphoglycerate kinase gene                                                       \n",
       "6 Direct Submission                                                                                                          \n",
       "7 Nucleotide sequence of the Penicillium chrysogenum pyrG (orotidine-5'-phosphate decarboxylase) gene                        \n",
       "  journal                                                                                                                                         \n",
       "1 Submitted (06-AUG-1990) Turner G., Dept. of Molecular Biology & Biotechnology, Western Bank, Sheffield S10 2TN, UK                              \n",
       "2 Mol. Gen. Genet. 216 (1), 91-98 (1989)                                                                                                          \n",
       "3 Unpublished                                                                                                                                     \n",
       "4 Mol. Gen. Genet. 218 (3), 572-576 (1989)                                                                                                        \n",
       "5 Nucleic Acids Res. 16 (24), 11823 (1988)                                                                                                        \n",
       "6 Submitted (31-OCT-1988) Van Solingen P., Royal Gist Brocades NV,Department of Yeast and Fungal Genetics, PO Box 1, 2600 MA Delft,The Netherlands\n",
       "7 Nucleic Acids Res. 16 (16), 8177 (1988)                                                                                                         \n",
       "  year type       \n",
       "1 1990 submission \n",
       "2 1989 publication\n",
       "3 NA   Unpublished\n",
       "4 1989 publication\n",
       "5 1988 publication\n",
       "6 1988 submission \n",
       "7 1988 publication"
      ]
     },
     "metadata": {},
     "output_type": "display_data"
    }
   ],
   "source": [
    "df.auths$type<-'publication' \n",
    "df.auths[grep('Submitted',df.auths$journal),]$type<-'submission'\n",
    "df.auths[grep('Unpublished',df.auths$journal),]$type<-'Unpublished'\n",
    "df.auths[grep('In press',df.auths$journal),]$type<-'In press'\n",
    "df.auths"
   ]
  },
  {
   "cell_type": "code",
   "execution_count": 48,
   "metadata": {},
   "outputs": [
    {
     "data": {
      "text/html": [
       "<ol class=list-inline>\n",
       "\t<li>'title'</li>\n",
       "\t<li>'journal'</li>\n",
       "\t<li>'year'</li>\n",
       "\t<li>'type'</li>\n",
       "\t<li>'authors_1'</li>\n",
       "\t<li>'authors_2'</li>\n",
       "\t<li>'authors_3'</li>\n",
       "\t<li>'authors_4'</li>\n",
       "\t<li>'authors_5'</li>\n",
       "\t<li>'authors_6'</li>\n",
       "\t<li>'authors_7'</li>\n",
       "\t<li>'authors_8'</li>\n",
       "</ol>\n"
      ],
      "text/latex": [
       "\\begin{enumerate*}\n",
       "\\item 'title'\n",
       "\\item 'journal'\n",
       "\\item 'year'\n",
       "\\item 'type'\n",
       "\\item 'authors\\_1'\n",
       "\\item 'authors\\_2'\n",
       "\\item 'authors\\_3'\n",
       "\\item 'authors\\_4'\n",
       "\\item 'authors\\_5'\n",
       "\\item 'authors\\_6'\n",
       "\\item 'authors\\_7'\n",
       "\\item 'authors\\_8'\n",
       "\\end{enumerate*}\n"
      ],
      "text/markdown": [
       "1. 'title'\n",
       "2. 'journal'\n",
       "3. 'year'\n",
       "4. 'type'\n",
       "5. 'authors_1'\n",
       "6. 'authors_2'\n",
       "7. 'authors_3'\n",
       "8. 'authors_4'\n",
       "9. 'authors_5'\n",
       "10. 'authors_6'\n",
       "11. 'authors_7'\n",
       "12. 'authors_8'\n",
       "\n",
       "\n"
      ],
      "text/plain": [
       " [1] \"title\"     \"journal\"   \"year\"      \"type\"      \"authors_1\" \"authors_2\"\n",
       " [7] \"authors_3\" \"authors_4\" \"authors_5\" \"authors_6\" \"authors_7\" \"authors_8\""
      ]
     },
     "metadata": {},
     "output_type": "display_data"
    }
   ],
   "source": [
    "colnames(df.auths)\n",
    "df.auths<- cSplit(df.auths, \"authors\", \".,\",'wide')\n",
    "df.auths<-as.data.frame(df.auths)"
   ]
  },
  {
   "cell_type": "code",
   "execution_count": 16,
   "metadata": {},
   "outputs": [
    {
     "ename": "ERROR",
     "evalue": "Error in eval(expr, envir, enclos): object 'df.auths' not found\n",
     "output_type": "error",
     "traceback": [
      "Error in eval(expr, envir, enclos): object 'df.auths' not found\nTraceback:\n"
     ]
    }
   ],
   "source": [
    "N<-df.auths\n",
    "ref.years<- N$year\n",
    "ref.type<-N$type\n",
    "colnames(N)"
   ]
  },
  {
   "cell_type": "code",
   "execution_count": 15,
   "metadata": {},
   "outputs": [
    {
     "ename": "ERROR",
     "evalue": "Error in eval(expr, envir, enclos): object 'N' not found\n",
     "output_type": "error",
     "traceback": [
      "Error in eval(expr, envir, enclos): object 'N' not found\nTraceback:\n"
     ]
    }
   ],
   "source": [
    "N "
   ]
  },
  {
   "cell_type": "code",
   "execution_count": 7,
   "metadata": {},
   "outputs": [],
   "source": [
    "N<-N[,c(5:12)] #We want JUST the authors.\n",
    "\n",
    "#tmpN <- t(combn(N[1,!is.na(N[1,])], 2))\n",
    "#df.N <- data.frame(Auth1 = unlist(tmpN[, 1]), Auth2 = unlist(tmpN[, 2]), stringsAsFactors = FALSE) "
   ]
  },
  {
   "cell_type": "markdown",
   "metadata": {},
   "source": []
  },
  {
   "cell_type": "code",
   "execution_count": null,
   "metadata": {},
   "outputs": [],
   "source": []
  }
 ],
 "metadata": {
  "kernelspec": {
   "display_name": "R",
   "language": "R",
   "name": "ir"
  },
  "language_info": {
   "codemirror_mode": "r",
   "file_extension": ".r",
   "mimetype": "text/x-r-source",
   "name": "R",
   "pygments_lexer": "r",
   "version": "3.4.1"
  }
 },
 "nbformat": 4,
 "nbformat_minor": 2
}
